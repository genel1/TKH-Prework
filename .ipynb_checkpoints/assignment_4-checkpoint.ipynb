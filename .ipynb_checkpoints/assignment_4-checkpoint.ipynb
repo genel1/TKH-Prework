{
 "cells": [
  {
   "cell_type": "code",
   "execution_count": 3,
   "metadata": {},
   "outputs": [
    {
     "name": "stdout",
     "output_type": "stream",
     "text": [
      "The longest name is future hendrix with a length of 14.\n"
     ]
    }
   ],
   "source": [
    "# Gene Lam\n",
    "# TKH Pre-work\n",
    "# Assignment 4\n",
    "\n",
    "def largest_name(names_list):\n",
    "    largest_name_length = -999999999\n",
    "    stored_name = \"\"\n",
    "    for name in names_list:\n",
    "        if len(name)>largest_name_length:\n",
    "            largest_name_length = len(name)\n",
    "            stored_name = name\n",
    "    return stored_name\n",
    "\n",
    "# Input our names_list from assignment 3\n",
    "names_list = [\"bob\",\"jimmy\",\"max b\", \"bernie\", \"jordan\", \"future hendrix\"]\n",
    "big_name = largest_name(names_list)\n",
    "# Outputs the largest name and its length\n",
    "print(\"The longest name is \" + big_name + \" with a length of \" + str(len(big_name)) +\".\")"
   ]
  },
  {
   "cell_type": "code",
   "execution_count": null,
   "metadata": {},
   "outputs": [],
   "source": []
  }
 ],
 "metadata": {
  "kernelspec": {
   "display_name": "Python 3",
   "language": "python",
   "name": "python3"
  },
  "language_info": {
   "codemirror_mode": {
    "name": "ipython",
    "version": 3
   },
   "file_extension": ".py",
   "mimetype": "text/x-python",
   "name": "python",
   "nbconvert_exporter": "python",
   "pygments_lexer": "ipython3",
   "version": "3.8.5"
  }
 },
 "nbformat": 4,
 "nbformat_minor": 4
}
