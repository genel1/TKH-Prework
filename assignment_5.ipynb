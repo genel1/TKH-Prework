{
 "cells": [
  {
   "cell_type": "code",
   "execution_count": 43,
   "metadata": {},
   "outputs": [
    {
     "name": "stdout",
     "output_type": "stream",
     "text": [
      "['bernie', 'bordan', 'buture hendrix']\n",
      "['boc', 'jimmc', 'max c']\n",
      "['bernie', 'bordan', 'buture hendrix']\n"
     ]
    }
   ],
   "source": [
    "# Gene Lam\n",
    "# TKH Pre-work\n",
    "# Assignment 5\n",
    "\n",
    "# Create a function that takes the below list of names, and separates them into two lists one of the names with an even number of letters and one with an odd number of letters.\n",
    "names_list = [\"bob\",\"jimmy\",\"max b\", \"bernie\", \"jordan\", \"future hendrix\"]\n",
    "\n",
    "# separates names into even and odd lengths\n",
    "def separate(name_list):\n",
    "    even_names = []\n",
    "    odd_names = []\n",
    "    for name in name_list:\n",
    "        if(len(name)%2==0):\n",
    "            even_names += [name]\n",
    "        else:\n",
    "            odd_names += [name]\n",
    "    # calls another function\n",
    "    return convert_letter(even_names,'b',odd_names,'c')\n",
    "\n",
    "# converts a letter in the name depending on whether it is even or odd\n",
    "def convert_letter(even_list, letter1, odd_list, letter2):\n",
    "    anotha_even_list = [] \n",
    "    anotha_odd_list = []\n",
    "    for even_name in even_list:\n",
    "        anotha_even_list += [letter1+even_name[1:]]\n",
    "    for odd_name in odd_list:\n",
    "        anotha_odd_list += [odd_name[:len(odd_name)-1]+letter2]\n",
    "    # Print both lists and then return the even one \n",
    "    print(anotha_even_list)\n",
    "    print(anotha_odd_list)\n",
    "    return(anotha_even_list)\n",
    "\n",
    "# return the even one to a variable named even_list and print it again.\n",
    "even_list = separate(names_list)\n",
    "print (even_list)"
   ]
  },
  {
   "cell_type": "code",
   "execution_count": null,
   "metadata": {},
   "outputs": [],
   "source": []
  }
 ],
 "metadata": {
  "kernelspec": {
   "display_name": "Python 3",
   "language": "python",
   "name": "python3"
  },
  "language_info": {
   "codemirror_mode": {
    "name": "ipython",
    "version": 3
   },
   "file_extension": ".py",
   "mimetype": "text/x-python",
   "name": "python",
   "nbconvert_exporter": "python",
   "pygments_lexer": "ipython3",
   "version": "3.8.5"
  }
 },
 "nbformat": 4,
 "nbformat_minor": 4
}
