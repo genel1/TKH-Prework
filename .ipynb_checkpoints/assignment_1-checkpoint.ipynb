{
 "cells": [
  {
   "cell_type": "code",
   "execution_count": 7,
   "metadata": {},
   "outputs": [
    {
     "name": "stdin",
     "output_type": "stream",
     "text": [
      "What is your name?  Gene\n"
     ]
    },
    {
     "name": "stdout",
     "output_type": "stream",
     "text": [
      "My name is Gene.\n"
     ]
    }
   ],
   "source": [
    "# Gene Lam\n",
    "# TKH Data Science with Python Pre-Work\n",
    "# Assignment 1\n",
    "\n",
    "# Takes in an input and stores into variable name\n",
    "name = input(\"What is your name? \")\n",
    "# prints out name in a sentence\n",
    "print(\"My name is \" + name + \".\")\n",
    "\n",
    "# OUTPUT:\n",
    "# \"What is your name?: Gene\"\n",
    "# My name is Gene."
   ]
  },
  {
   "cell_type": "code",
   "execution_count": null,
   "metadata": {},
   "outputs": [],
   "source": []
  }
 ],
 "metadata": {
  "kernelspec": {
   "display_name": "Python 3",
   "language": "python",
   "name": "python3"
  },
  "language_info": {
   "codemirror_mode": {
    "name": "ipython",
    "version": 3
   },
   "file_extension": ".py",
   "mimetype": "text/x-python",
   "name": "python",
   "nbconvert_exporter": "python",
   "pygments_lexer": "ipython3",
   "version": "3.8.5"
  }
 },
 "nbformat": 4,
 "nbformat_minor": 4
}
