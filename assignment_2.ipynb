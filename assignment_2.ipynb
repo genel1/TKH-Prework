{
 "cells": [
  {
   "cell_type": "code",
   "execution_count": 3,
   "metadata": {},
   "outputs": [
    {
     "name": "stdout",
     "output_type": "stream",
     "text": [
      "under\n",
      "over\n",
      "over\n",
      "under\n",
      "under\n",
      "under\n",
      "over\n",
      "over\n",
      "['under', 'over', 'over', 'under', 'under', 'under', 'over', 'over']\n"
     ]
    }
   ],
   "source": [
    "# Gene Lam\n",
    "# TKH Pre-work\n",
    "# Assignment 2\n",
    "\n",
    "over_under_list = [1,45,32,21,5,17,43,93]\n",
    "solution = []\n",
    "\n",
    "# For loop prints out whether each int is under or over 25\n",
    "for i in over_under_list:\n",
    "    if i<25:\n",
    "        solution += [\"under\"]\n",
    "        print(\"under\")\n",
    "    elif i>25: \n",
    "        solution += [\"over\"]\n",
    "        print(\"over\")\n",
    "    else:\n",
    "        solution += [\"same\"]\n",
    "        print(\"same\")\n",
    "\n",
    "# prints out the entire array\n",
    "print(solution)"
   ]
  },
  {
   "cell_type": "code",
   "execution_count": null,
   "metadata": {},
   "outputs": [],
   "source": []
  }
 ],
 "metadata": {
  "kernelspec": {
   "display_name": "Python 3",
   "language": "python",
   "name": "python3"
  },
  "language_info": {
   "codemirror_mode": {
    "name": "ipython",
    "version": 3
   },
   "file_extension": ".py",
   "mimetype": "text/x-python",
   "name": "python",
   "nbconvert_exporter": "python",
   "pygments_lexer": "ipython3",
   "version": "3.8.5"
  }
 },
 "nbformat": 4,
 "nbformat_minor": 4
}
